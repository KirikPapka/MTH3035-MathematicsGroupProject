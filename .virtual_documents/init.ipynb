# Atmospheric Profile Plotter
# This notebook reads a vertical profile data file and plots various atmospheric variables.

import numpy as np
import pandas as pd
import matplotlib.pyplot as plt

# --- File path ---
file_path = "output/arm_shcu_init.dat"  # Change this if loading a different file


# --- Read file ---
with open(file_path, 'r') as f:
    lines = f.readlines()

# --- Parse global parameters from the first line ---
u_star, w_star, l_obuk, h_bl, th_surf = map(float, lines[0].split())

print("Global Parameters:")
print(f"u_star = {u_star}")
print(f"w_star = {w_star}")
print(f"l_obuk = {l_obuk}")
print(f"h_bl = {h_bl}")
print(f"th_surf = {th_surf}")


# --- Column names ---
columns = ['zn', 'z', 'u', 'v', 'th', 'qv', 'uw', 'vw', 
           'wth', 'k_m', 'k_h', 'c_vis']

# --- Load profile data ---
# --- Filter out non-numeric lines (e.g., footer text like '*********Next time ****************') ---
data_lines = [line for line in lines[1:] if line.strip() and not line.lstrip().startswith('*')]

# --- Load only valid numeric data, using the first 12 columns ---
data = np.loadtxt(data_lines, usecols=range(12))
df = pd.DataFrame(data, columns=columns)


# --- Plotting ---
def plot_profile(x, y, xlabel, ylabel='z (m)', title=None):
    plt.figure()
    plt.plot(x, y)
    plt.xlabel(xlabel)
    plt.ylabel(ylabel)
    if title:
        plt.title(title)
    plt.grid(True)
    plt.ylim(0,2000)
    plt.show()

# Example plots
# plot_profile(df['u'], df['zn'], 'u (m/s)', title='Horizontal Wind (u)')
# plot_profile(df['v'], df['zn'], 'v (m/s)', title='Horizontal Wind (v)')
# plot_profile(df['th'], df['z'], 'Potential Temperature (K)', title='Potential Temperature')
# plot_profile(df['qv'], df['z'], 'q_v (g/kg)', title='Vapour mixing ratio')
# plot_profile(df['uw'], df['zn'], 'uw (m²/s²)', title='Momentum Flux uw')
# plot_profile(df['vw'], df['zn'], 'vw (m²/s²)', title='Momentum Flux vw')
# plot_profile(df['wth'], df['z'], 'wθ (K·m/s)', title='Buoyancy Flux wθ')
# plot_profile(df['k_m'], df['z'], 'k_m (m²/s)', title='Eddy Viscosity k_m')
# plot_profile(df['k_h'], df['z'], 'k_h (m²/s)', title='Thermal Diffusivity k_h')
# plot_profile(df['c_vis'], df['z'], 'c_vis', title='Turbulent Coefficient c_vis')

# Optional: Save to CSV
# df.to_csv("profile_data.csv", index=False)



plt.plot(df['th'], df['z'])
plt.plot(df2['th'], df['z'])
plt.ylim(0,1000)


plt.plot(df['qv'], df['z'])



